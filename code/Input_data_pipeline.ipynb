{
 "cells": [
  {
   "cell_type": "markdown",
   "metadata": {},
   "source": [
    "##### INPUT DATA PIPELINE #####"
   ]
  },
  {
   "cell_type": "code",
   "execution_count": 15,
   "metadata": {},
   "outputs": [],
   "source": [
    "#Imports\n",
    "import pathlib\n",
    "import random\n",
    "import IPython.display as display"
   ]
  },
  {
   "cell_type": "raw",
   "metadata": {},
   "source": [
    "Specifying the paths of the dataset and performing sanity checks"
   ]
  },
  {
   "cell_type": "code",
   "execution_count": 10,
   "metadata": {},
   "outputs": [
    {
     "name": "stdout",
     "output_type": "stream",
     "text": [
      "Directory:../datasets/large_sample\n"
     ]
    }
   ],
   "source": [
    "\n",
    "#Loading the dataset path\n",
    "data_root = '../datasets/large_sample/'\n",
    "data_root = pathlib.Path(data_root)\n",
    "print(\"Directory:\" + str(data_root))\n"
   ]
  },
  {
   "cell_type": "raw",
   "metadata": {},
   "source": [
    "#Sanity check by printing all the avaliable folders in the datasets. To run, Esc -> y and then run the cell\n",
    "for item in data_root.iterdir():\n",
    "    print(item)"
   ]
  },
  {
   "cell_type": "code",
   "execution_count": 14,
   "metadata": {},
   "outputs": [
    {
     "name": "stdout",
     "output_type": "stream",
     "text": [
      "Image Count45842\n",
      "['../datasets/large_sample/fruit_salad/53213.jpg', '../datasets/large_sample/milk_pudding/37367.jpg', '../datasets/large_sample/coconut_cake/44401.jpg', '../datasets/large_sample/sliced_cucumber/21917.jpg', '../datasets/large_sample/millet_porridge/17287.jpg']\n"
     ]
    }
   ],
   "source": [
    "# Checking image count and some paths for sanity check\n",
    "all_image_paths = list(data_root.glob('*/*'))\n",
    "all_image_paths = [str(path) for path in all_image_paths]\n",
    "random.shuffle(all_image_paths)\n",
    "image_count = len(all_image_paths)\n",
    "\n",
    "print(\"Image Count\" +str(image_count))\n",
    "print(all_image_paths[0:5])"
   ]
  },
  {
   "cell_type": "code",
   "execution_count": null,
   "metadata": {},
   "outputs": [],
   "source": [
    "# Displaying the images for sanity check\n",
    "for image in range(3):\n",
    "    image_path = random.choice(all_image_paths)\n",
    "    display.display(display.Image(image_path))"
   ]
  },
  {
   "cell_type": "code",
   "execution_count": 18,
   "metadata": {},
   "outputs": [
    {
     "name": "stdout",
     "output_type": "stream",
     "text": [
      "['almond_desert', 'apple_pine', 'baby_cabbage', 'breakfast_burritos', 'cake', 'candied_haw', 'chinese_mitten_crab', 'clam_juice_chicken_feet', 'coconut_cake', 'coffee', 'cool_noodles', 'corn_cake', 'donuts', 'double_cooked_pork_slices', 'dry_fried_noodle', 'duck_neck', 'dumpling_ham', 'dumplings', 'egg_pudding', 'egg_tart', 'egg_waffle', 'egg_yolk_puff', 'ferment_cake', 'french_toast', 'fried_dough_twists', 'fried_rice', 'fruit_salad', 'grilled_cold_noodles', 'grilled_fish', 'gui_ling_jelly', 'hong_kong_style_french_toast', 'hot_and_sour_soup', 'hot_pot', 'huntun', 'ice_cream', 'mango_crepe', 'mashed_potato', 'milk_pudding', 'millet_porridge', 'mixed_porridge', 'moon_cake', 'pancake', 'pickle', 'pineapple_buns', 'pizza', 'pork_knuckle', 'potato_shred', 'puffs', 'pumpkin_porridge', 'red_bean_pudding', 'red_swamp_crayfish', 'rice_dumpling', 'rice_noodle', 'rice_porridge', 'roast_duck', 'salted_duck_egg', 'sandwich', 'sausage', 'shark_fine_soup', 'shrimp_dumplings', 'sliced_cucumber', 'sponge_cake', 'squirrel_fish', 'stall_noodle', 'steamed_bread', 'steamed_rice_roll', 'sumai', 'sushi', 'takoyaki', 'tang_yuan', 'tofu', 'turnip_cake', 'walnut_cake', 'wonton_noodles', 'xiao_long_bao']\n",
      "Number of labels: 75\n"
     ]
    }
   ],
   "source": [
    "#Determining the labels\n",
    "labels = sorted(item.name for item in data_root.glob('*/') if item.is_dir())\n",
    "print (labels)\n",
    "\n",
    "#Sanity check for number of labels\n",
    "print (\"Number of labels: \"+ str(len(labels)))"
   ]
  },
  {
   "cell_type": "code",
   "execution_count": 20,
   "metadata": {},
   "outputs": [
    {
     "name": "stdout",
     "output_type": "stream",
     "text": [
      "{'almond_desert': 0, 'apple_pine': 1, 'baby_cabbage': 2, 'breakfast_burritos': 3, 'cake': 4, 'candied_haw': 5, 'chinese_mitten_crab': 6, 'clam_juice_chicken_feet': 7, 'coconut_cake': 8, 'coffee': 9, 'cool_noodles': 10, 'corn_cake': 11, 'donuts': 12, 'double_cooked_pork_slices': 13, 'dry_fried_noodle': 14, 'duck_neck': 15, 'dumpling_ham': 16, 'dumplings': 17, 'egg_pudding': 18, 'egg_tart': 19, 'egg_waffle': 20, 'egg_yolk_puff': 21, 'ferment_cake': 22, 'french_toast': 23, 'fried_dough_twists': 24, 'fried_rice': 25, 'fruit_salad': 26, 'grilled_cold_noodles': 27, 'grilled_fish': 28, 'gui_ling_jelly': 29, 'hong_kong_style_french_toast': 30, 'hot_and_sour_soup': 31, 'hot_pot': 32, 'huntun': 33, 'ice_cream': 34, 'mango_crepe': 35, 'mashed_potato': 36, 'milk_pudding': 37, 'millet_porridge': 38, 'mixed_porridge': 39, 'moon_cake': 40, 'pancake': 41, 'pickle': 42, 'pineapple_buns': 43, 'pizza': 44, 'pork_knuckle': 45, 'potato_shred': 46, 'puffs': 47, 'pumpkin_porridge': 48, 'red_bean_pudding': 49, 'red_swamp_crayfish': 50, 'rice_dumpling': 51, 'rice_noodle': 52, 'rice_porridge': 53, 'roast_duck': 54, 'salted_duck_egg': 55, 'sandwich': 56, 'sausage': 57, 'shark_fine_soup': 58, 'shrimp_dumplings': 59, 'sliced_cucumber': 60, 'sponge_cake': 61, 'squirrel_fish': 62, 'stall_noodle': 63, 'steamed_bread': 64, 'steamed_rice_roll': 65, 'sumai': 66, 'sushi': 67, 'takoyaki': 68, 'tang_yuan': 69, 'tofu': 70, 'turnip_cake': 71, 'walnut_cake': 72, 'wonton_noodles': 73, 'xiao_long_bao': 74}\n"
     ]
    }
   ],
   "source": [
    "#Assigning indexes to the labels\n",
    "label_to_index = dict((name, index) for index,name in enumerate(labels))\n",
    "print (label_to_index)"
   ]
  },
  {
   "cell_type": "code",
   "execution_count": 24,
   "metadata": {},
   "outputs": [
    {
     "name": "stdout",
     "output_type": "stream",
     "text": [
      "Image paths: ['../datasets/large_sample/fruit_salad/53213.jpg', '../datasets/large_sample/milk_pudding/37367.jpg', '../datasets/large_sample/coconut_cake/44401.jpg', '../datasets/large_sample/sliced_cucumber/21917.jpg', '../datasets/large_sample/millet_porridge/17287.jpg']\n",
      "Image labels: [26, 37, 8, 60, 38]\n"
     ]
    }
   ],
   "source": [
    "#Assigning labels to the images\n",
    "all_image_labels = [label_to_index[pathlib.Path(path).parent.name] for path in all_image_paths]\n",
    "\n",
    "#Sanity check by performing label check for first 5 images\n",
    "print(\"Image paths: \" + str(all_image_paths[:5]))\n",
    "print(\"Image labels: \" + str(all_image_labels[:5]))"
   ]
  },
  {
   "cell_type": "code",
   "execution_count": null,
   "metadata": {},
   "outputs": [],
   "source": []
  }
 ],
 "metadata": {
  "kernelspec": {
   "display_name": "Python 3",
   "language": "python",
   "name": "python3"
  },
  "language_info": {
   "codemirror_mode": {
    "name": "ipython",
    "version": 3
   },
   "file_extension": ".py",
   "mimetype": "text/x-python",
   "name": "python",
   "nbconvert_exporter": "python",
   "pygments_lexer": "ipython3",
   "version": "3.6.7"
  }
 },
 "nbformat": 4,
 "nbformat_minor": 2
}
